{
 "cells": [
  {
   "cell_type": "markdown",
   "metadata": {},
   "source": [
    "BLOK 1 -> Load the required packages",
   ]
  },
  {
   "cell_type": "code",
   "execution_count": 1,
   "metadata": {},
   "outputs": [],
   "source": [
    "import os\n",
    "import numpy as np\n",
    "import pandas as pd\n",
    "import seaborn as sns\n",
    "import matplotlib.pyplot as plt\n",
    "\n",
    "from sklearn.model_selection import train_test_split\n",
    "from sklearn.metrics import classification_report, confusion_matrix\n",
    "\n",
    "from tensorflow.keras.layers import Conv2D, MaxPooling2D, Flatten, Dense, Dropout, Input, concatenate \n",
    "from tensorflow.keras.callbacks import ModelCheckpoint\n",
    "from tensorflow.keras.models import load_model, Model"
   ]
  },
  {
   "cell_type": "code",
   "execution_count": 2,
   "metadata": {},
   "outputs": [],
   "source": [
    "# BLOK 2\n",
    "# =============================================================================\n",
    "#   Define a global variables\n",
    "# =============================================================================\n",
    "activation = 'tanh'\n",
    "optimizer = 'SGD'\n",
    "batch_size = 16\n",
    "epochs = 40"
   ]
  },
  {
   "cell_type": "code",
   "execution_count": 3,
   "metadata": {},
   "outputs": [],
   "source": [
    "# BLOK 3\n",
    "# =============================================================================\n",
    "#   Define a path\n",
    "# =============================================================================\n",
    "path = 'PATH-TO-SVMDAT-FOLDER'"
   ]
  },
  {
   "cell_type": "code",
   "execution_count": 4,
   "metadata": {},
   "outputs": [],
   "source": [
    "# BLOK 4\n",
    "# =============================================================================\n",
    "#   Data preprocessing functions\n",
    "# =============================================================================\n",
    "def loadFileNames(filePath, prefix):\n",
    "    files = []\n",
    "    for r, d, f in os.walk(filePath):\n",
    "        for file in f:\n",
    "            data = '.' + prefix\n",
    "            if data in file:\n",
    "                files.append(os.path.join(r, file))\n",
    "    return files          \n",
    "\n",
    "def load_file(filepath):\n",
    "    dataframe = pd.read_csv(filepath, header = None, delim_whitespace = True)\n",
    "    return dataframe\n",
    "\n",
    "def frameFunc(filepath):\n",
    "    dataframe = load_file(filepath)\n",
    "    df_list, df_list2, df_list3, df_list4, df_list5, df_list6, df_list7, df_list8, df_list9, df_list10, df_list11, df_list12 = [], [], [], [], [], [], [], [], [], [], [], []\n",
    "    for index in dataframe.index:\n",
    "        odparsovat = dataframe.iloc[index]\n",
    "        label = odparsovat.iloc[0]    \n",
    "        pracovne = odparsovat.drop(0)    \n",
    "        result, result2, result3, result4, result5 = [], [], [], [], []\n",
    "        for items in pracovne.iteritems():\n",
    "            result.append(items[1])        \n",
    "        for i in result:\n",
    "            i = str(i)\n",
    "            result2.append(i[i.find(\":\")+1:])  \n",
    "        result3 = result2[:result2.index(\"#\")]\n",
    "        result4 = result2[result2.index(\"#\")+1:]\n",
    "        result4.remove(\"#\")\n",
    "        for i in result3:\n",
    "            i = float(i)\n",
    "            result5.append(i)\n",
    "        leto = np.array(result5)\n",
    "        leto.resize(20,4)    \n",
    "        df_list.append(leto)\n",
    "        df_list2.append(label)\n",
    "        df_list3.append(float(result4[0]))\n",
    "        df_list4.append(float(result4[1]))\n",
    "        df_list5.append(float(result4[2]))\n",
    "        df_list6.append(result4[3])\n",
    "        df_list7.append(float(result4[4]))\n",
    "        df_list8.append(float(result4[5]))\n",
    "        df_list9.append(result4[6])\n",
    "        df_list10.append(result4[7])\n",
    "        df_list11.append(result4[8])\n",
    "        df_list12.append(filepath[filepath.rindex(\"/\")+1:filepath.index(\".\")])\n",
    "    zippedList =  list(zip(df_list, df_list2, df_list3, df_list4, df_list5, df_list6, df_list7, df_list8, df_list9, df_list10, df_list11, df_list12))\n",
    "    dfObj = pd.DataFrame(zippedList, columns = ['x','y', 'longitude1', 'latitude1', 'neviem1', 'neviem2', 'longitude2', 'latitude2', 'id', 'magnitude', 'distance', 'name'])\n",
    "    return dfObj\n",
    "\n",
    "def createFrame(prefix):\n",
    "    frame = pd.DataFrame(columns = ['x','y']) \n",
    "    for i in loadFileNames(path, prefix):\n",
    "        frame = frame.append(frameFunc(i))\n",
    "    return frame"
   ]
  },
  {
   "cell_type": "code",
   "execution_count": 5,
   "metadata": {},
   "outputs": [],
   "source": [
    "# BLOK 5\n",
    "# =============================================================================\n",
    "#   Call the data preprocessing function\n",
    "# =============================================================================\n",
    "parsed_data = createFrame('eq').append(createFrame('ex'))"
   ]
  },
  {
   "cell_type": "code",
   "execution_count": 6,
   "metadata": {},
   "outputs": [],
   "source": [
    "# BLOK 6\n",
    "# =============================================================================\n",
    "#   Divide data into train and test\n",
    "# =============================================================================\n",
    "orig = pd.DataFrame(parsed_data)[['id','name','distance','latitude1','longitude1','x','y']]\n",
    "orig = orig.rename(columns={\"id\": \"qid\", \"name\": \"station\", \"distance\":\"dist\", \"latitude1\":\"lat\", \"longitude1\":\"long\", \"x\":\"x\", \"y\":\"y\"})\n",
    "orig['y'].replace(-1, 0, inplace = True)\n",
    "orig['dist'] = pd.to_numeric(orig['dist'],downcast = 'float')    \n",
    "orig.info()\n",
    "\n",
    "uniqueIDs = orig['qid'].unique()\n",
    "trainID, testID = train_test_split(uniqueIDs, test_size = 0.2, random_state = 42)\n",
    "train = orig[orig['qid'].isin(trainID)]\n",
    "test = orig[orig['qid'].isin(testID)]"
   ]
  },
  {
   "cell_type": "code",
   "execution_count": 7,
   "metadata": {},
   "outputs": [],
   "source": [
    "# BLOK 7\n",
    "# =============================================================================\n",
    "#   Function for initialize CNN model\n",
    "#   Input: \n",
    "#   Output: model\n",
    "# =============================================================================\n",
    "def initializeModel():\n",
    "    inputs = Input(shape=(20,4,1))\n",
    "    a = Flatten()(inputs)\n",
    "    a = Dense(128, activation = activation)(a)\n",
    "    a = Dense(64, activation = activation)(a)\n",
    "    a = Dense(32, activation = activation)(a)\n",
    "    a = Dense(64, activation = activation)(a)\n",
    "    a = Dense(128, activation = activation)(a)\n",
    "    a = Dense(256, activation = activation)(a)\n",
    "    \n",
    "    b = Conv2D(64, kernel_size = (4,4), padding='same', activation = activation)(inputs)\n",
    "    b = MaxPooling2D(pool_size = (2, 2), padding = 'same')(b)\n",
    "    b = Flatten()(b)\n",
    "    \n",
    "    c = Flatten()(inputs)\n",
    "    c = Dense(128, activation = activation)(c)\n",
    "    c = Dense(64, activation = activation)(c)\n",
    "    c = Dense(32, activation = activation)(c)\n",
    "    c = Dense(64, activation = activation)(c)\n",
    "    c = Dense(128, activation = activation)(c)\n",
    "    c = Dense(256, activation = activation)(c)\n",
    "    \n",
    "    x = concatenate([a, b, c])\n",
    "    x = Dropout(0.2)(x)\n",
    "    x = Dense(64, activation = activation)(x)\n",
    "    output = Dense(1, activation='sigmoid')(x)\n",
    "    model = Model(inputs=inputs, outputs=output)\n",
    "    model.compile(loss='binary_crossentropy', optimizer=optimizer, metrics=['accuracy'])\n",
    "\n",
    "    return model"
   ]
  },
  {
   "cell_type": "code",
   "execution_count": 8,
   "metadata": {},
   "outputs": [],
   "source": [
    "# BLOK 8\n",
    "# =============================================================================\n",
    "#   MAIN FUNCTION\n",
    "# =============================================================================\n",
    "X_train = np.expand_dims(np.stack(train['x']), axis = 3)\n",
    "y_train = np.stack(train['y'])\n",
    "X_test = np.expand_dims(np.stack(test['x']), axis = 3)\n",
    "y_test = np.stack(test['y'])\n",
    "\n",
    "# =============================================================================\n",
    "#   Train model\n",
    "# =============================================================================\n",
    "model = initializeModel()\n",
    "saved_model = \"first_train.hdf5\"\n",
    "checkpoint = ModelCheckpoint(saved_model, monitor='val_accuracy', verbose=1, save_best_only=True, mode='max')\n",
    "class_weight = {1: 6, 0: 2}\n",
    "model.fit(X_train, y_train, validation_data = (X_test, y_test), batch_size = batch_size, epochs = epochs, verbose=1, callbacks = [checkpoint], class_weight=class_weight)\n",
    "model=load_model('first_train.hdf5')\n",
    "\n",
    "# =============================================================================\n",
    "#   Predict and evalute test set\n",
    "# =============================================================================\n",
    "score = model.evaluate(X_test, y_test, verbose = 2)\n",
    "print(\"Test Score:\", score[0])\n",
    "print(\"Test Accuracy:\", score[1])\n",
    "\n",
    "test_results = pd.DataFrame(test).copy()\n",
    "test_results['y_pred'] = model.predict(X_test)\n",
    "test_results['y_pred'] = test_results['y_pred'].apply(lambda x: 1 if x > 0.5 else 0)\n",
    "test_results['correct_class'] = np.where(test_results['y'] == test_results['y_pred'], 1, 0)\n",
    "\n",
    "simple_voting = pd.pivot_table(test_results, index = ['qid'], values=['y_pred', 'y'], aggfunc = {'y_pred': [lambda x: np.sum(x)/len(x),len,np.sum], 'y':np.mean})\n",
    "simple_voting.columns = ['y','y_pred_ratio','y_pred_len','y_pred_sum']\n",
    "simple_voting['y_pred'] = simple_voting['y_pred_ratio'].apply(lambda x: 1 if x >= 0.5 else 0)\n",
    "\n",
    "print(classification_report(simple_voting['y'], simple_voting['y_pred']))\n",
    "cm = confusion_matrix(simple_voting['y'], simple_voting['y_pred'])\n",
    "print(cm)\n",
    "TN = cm[0][0]\n",
    "FN = cm[1][0]\n",
    "TP = cm[1][1]\n",
    "FP = cm[0][1]\n",
    "FNR = FN / (FN + TP)\n",
    "FPR = FP / (FP + TN)\n",
    "print(\"miss rate:\", FNR)\n",
    "print(\"fall-out:\", FPR)"
   ]
  },
  {
   "cell_type": "code",
   "execution_count": 9,
   "metadata": {},
   "outputs": [
    {
     "data": {
      "image/png": "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\n",
      "text/plain": [
       "<Figure size 1440x720 with 1 Axes>"
      ]
     },
     "metadata": {
      "needs_background": "light"
     },
     "output_type": "display_data"
    },
    {
     "data": {
      "image/png": "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\n",
      "text/plain": [
       "<Figure size 1800x360 with 1 Axes>"
      ]
     },
     "metadata": {
      "needs_background": "light"
     },
     "output_type": "display_data"
    }
   ],
   "source": [
    "# BLOK 9\n",
    "# =============================================================================\n",
    "#   VISUALIZATIONS\n",
    "# =============================================================================\n",
    "plt.figure(figsize=(20,10))\n",
    "sns.countplot(x='station',hue='correct_class', data=test_results)\n",
    "plt.xticks(rotation=45, horizontalalignment='right',fontweight='light',fontsize='x-large')\n",
    "\n",
    "station_test_results = pd.pivot_table(test_results, index=['station'],values=['correct_class'],aggfunc = {'correct_class':[lambda x: len(x)-sum(x), sum]})\n",
    "station_test_results.columns = ['wrong','correct']\n",
    "station_test_results['correct_perc']=station_test_results['correct']/(station_test_results['wrong']+station_test_results['correct'])\n",
    "station_test_results['wrong_perc']=station_test_results['wrong']/(station_test_results['wrong']+station_test_results['correct'])\n",
    "\n",
    "table_of_count_correct_class_per_qid = pd.pivot_table(test_results, \n",
    "                            index = ['qid'], \n",
    "                            values=['correct_class'], \n",
    "                            aggfunc = {'correct_class': [lambda x: len(x)-sum(x), sum]})\n",
    "table_of_count_correct_class_per_qid.columns = ['wrong', 'correct']\n",
    "\n",
    "\n",
    "gk = pd.DataFrame(table_of_count_correct_class_per_qid).copy()\n",
    "gk[\"total\"] = gk[\"wrong\"] + gk[\"correct\"]\n",
    "g2 = gk.sort_values([\"correct\",\"wrong\"],ascending=False).groupby( [\"total\", gk.index.values,\"wrong\", \"correct\"] ).count().reset_index()\n",
    "\n",
    "data_histogram2 = test_results\n",
    "data_histogram2[\"dist\"] = pd.to_numeric(data_histogram2[\"dist\"])\n",
    "data_histogram2[\"dist\"] = pd.qcut(data_histogram2['dist'], q=10).astype(str)\n",
    "\n",
    "x1_histogram2 = data_histogram2.loc[data_histogram2.correct_class == 1, 'dist']\n",
    "x2_histogram2 = data_histogram2.loc[data_histogram2.correct_class == 0, 'dist']\n",
    "kwargs = dict(alpha=0.5, bins=10)\n",
    "plt.figure(figsize=(25,5))\n",
    "plt.hist(x1_histogram2, **kwargs, color='g', label= '1')\n",
    "plt.hist(x2_histogram2, **kwargs, color='b', label='0')\n",
    "plt.gca().set(title='Distance before voting', ylabel='Frequency', xlabel='value')\n",
    "plt.legend();"
   ]
  },
  {
   "cell_type": "code",
   "execution_count": null,
   "metadata": {},
   "outputs": [],
   "source": []
  }
 ],
 "metadata": {
  "kernelspec": {
   "display_name": "Python 3",
   "language": "python",
   "name": "python3"
  },
  "language_info": {
   "codemirror_mode": {
    "name": "ipython",
    "version": 3
   },
   "file_extension": ".py",
   "mimetype": "text/x-python",
   "name": "python",
   "nbconvert_exporter": "python",
   "pygments_lexer": "ipython3",
   "version": "3.7.4"
  }
 },
 "nbformat": 4,
 "nbformat_minor": 4
}
