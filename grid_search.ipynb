{
 "cells": [
  {
   "cell_type": "markdown",
   "metadata": {},
   "source": [
    "BLOK 1 -> Load the required packages"
   ]
  },
  {
   "cell_type": "code",
   "execution_count": null,
   "metadata": {},
   "outputs": [],
   "source": [
    "import os\n",
    "import numpy as np\n",
    "import pandas as pd\n",
    "\n",
    "from sklearn.model_selection import train_test_split, GridSearchCV\n",
    "\n",
    "from tensorflow.keras.layers import Conv2D, MaxPooling2D, Flatten, Dense, Dropout, Input, concatenate \n",
    "from tensorflow.keras.callbacks import ModelCheckpoint\n",
    "from tensorflow.keras.models import Model\n",
    "from tensorflow.keras.wrappers.scikit_learn import KerasClassifier"
   ]
  },
  {
   "cell_type": "markdown",
   "metadata": {},
   "source": [
    "BLOK 2 -> Define a global variables"
   ]
  },
  {
   "cell_type": "code",
   "execution_count": null,
   "metadata": {},
   "outputs": [],
   "source": [
    "activation = ['relu', 'tanh'] \n",
    "dropout_rate = [0.1, 0.2]\n",
    "batch_size = [16, 32, 64]\n",
    "optimizer = ['SGD', 'RMSprop', 'Adam']\n",
    "class_weight = {1: 6, 0: 2}"
   ]
  },
  {
   "cell_type": "markdown",
   "metadata": {},
   "source": [
    "BLOK 3 -> Define a path"
   ]
  },
  {
   "cell_type": "code",
   "execution_count": null,
   "metadata": {},
   "outputs": [],
   "source": [
    "path = 'PATH-TO-SVMDAT-FOLDER'"
   ]
  },
  {
   "cell_type": "markdown",
   "metadata": {},
   "source": [
    "BLOK 4 -> Data preprocessing functions"
   ]
  },
  {
   "cell_type": "code",
   "execution_count": null,
   "metadata": {},
   "outputs": [],
   "source": [
    "def loadFileNames(filePath, prefix):\n",
    "    files = []\n",
    "    for r, d, f in os.walk(filePath):\n",
    "        for file in f:\n",
    "            data = '.' + prefix\n",
    "            if data in file:\n",
    "                files.append(os.path.join(r, file))\n",
    "    return files          \n",
    "\n",
    "def load_file(filepath):\n",
    "    dataframe = pd.read_csv(filepath, header = None, delim_whitespace = True)\n",
    "    return dataframe\n",
    "\n",
    "def frameFunc(filepath):\n",
    "    dataframe = load_file(filepath)\n",
    "    df_list, df_list2, df_list3, df_list4, df_list5, df_list6, df_list7, df_list8, df_list9, df_list10, df_list11, df_list12 = [], [], [], [], [], [], [], [], [], [], [], []\n",
    "    for index in dataframe.index:\n",
    "        odparsovat = dataframe.iloc[index]\n",
    "        label = odparsovat.iloc[0]    \n",
    "        pracovne = odparsovat.drop(0)    \n",
    "        result, result2, result3, result4, result5 = [], [], [], [], []\n",
    "        for items in pracovne.iteritems():\n",
    "            result.append(items[1])        \n",
    "        for i in result:\n",
    "            i = str(i)\n",
    "            result2.append(i[i.find(\":\")+1:])  \n",
    "        result3 = result2[:result2.index(\"#\")]\n",
    "        result4 = result2[result2.index(\"#\")+1:]\n",
    "        result4.remove(\"#\")\n",
    "        for i in result3:\n",
    "            i = float(i)\n",
    "            result5.append(i)\n",
    "        leto = np.array(result5)\n",
    "        leto.resize(20,4)    \n",
    "        df_list.append(leto)\n",
    "        df_list2.append(label)\n",
    "        df_list3.append(float(result4[0]))\n",
    "        df_list4.append(float(result4[1]))\n",
    "        df_list5.append(float(result4[2]))\n",
    "        df_list6.append(result4[3])\n",
    "        df_list7.append(float(result4[4]))\n",
    "        df_list8.append(float(result4[5]))\n",
    "        df_list9.append(result4[6])\n",
    "        df_list10.append(result4[7])\n",
    "        df_list11.append(result4[8])\n",
    "        df_list12.append(filepath[filepath.rindex(\"/\")+1:filepath.index(\".\")])\n",
    "    zippedList =  list(zip(df_list, df_list2, df_list3, df_list4, df_list5, df_list6, df_list7, df_list8, df_list9, df_list10, df_list11, df_list12))\n",
    "    dfObj = pd.DataFrame(zippedList, columns = ['x','y', 'longitude1', 'latitude1', 'neviem1', 'neviem2', 'longitude2', 'latitude2', 'id', 'magnitude', 'distance', 'name'])\n",
    "    return dfObj\n",
    "\n",
    "def createFrame(prefix):\n",
    "    frame = pd.DataFrame(columns = ['x','y']) \n",
    "    for i in loadFileNames(path, prefix):\n",
    "        frame = frame.append(frameFunc(i))\n",
    "    return frame"
   ]
  },
  {
   "cell_type": "markdown",
   "metadata": {},
   "source": [
    "BLOK 5 -> Call the data preprocessing function"
   ]
  },
  {
   "cell_type": "code",
   "execution_count": null,
   "metadata": {},
   "outputs": [],
   "source": [
    "parsed_data = createFrame('eq').append(createFrame('ex'))"
   ]
  },
  {
   "cell_type": "markdown",
   "metadata": {},
   "source": [
    "BLOK 6 -> Divide data into train and test"
   ]
  },
  {
   "cell_type": "code",
   "execution_count": null,
   "metadata": {},
   "outputs": [],
   "source": [
    "orig = pd.DataFrame(parsed_data)[['id','name','distance','latitude1','longitude1','x','y']]\n",
    "orig = orig.rename(columns={\"id\": \"qid\", \"name\": \"station\", \"distance\":\"dist\", \"latitude1\":\"lat\", \"longitude1\":\"long\", \"x\":\"x\", \"y\":\"y\"})\n",
    "orig['y'].replace(-1, 0, inplace = True)\n",
    "orig['dist'] = pd.to_numeric(orig['dist'],downcast = 'float')    \n",
    "orig.info()\n",
    "\n",
    "print()\n",
    "print(orig.head())\n",
    "\n",
    "uniqueIDs = orig['qid'].unique()\n",
    "trainID, testID = train_test_split(uniqueIDs, test_size = 0.2, random_state = 42)\n",
    "train = orig[orig['qid'].isin(trainID)]\n",
    "test = orig[orig['qid'].isin(testID)]"
   ]
  },
  {
   "cell_type": "markdown",
   "metadata": {},
   "source": [
    "BLOK 7 -> Function for initialize CNN model for Grid Search -> Output: model"
   ]
  },
  {
   "cell_type": "code",
   "execution_count": null,
   "metadata": {},
   "outputs": [],
   "source": [
    "def initializeModel(dropout_rate=0.1, activation='relu', optimizer='adam'):\n",
    "    inputs = Input(shape=(20,4,1))\n",
    "    a = Flatten()(inputs)\n",
    "    a = Dense(128, activation = activation)(a)\n",
    "    a = Dense(64, activation = activation)(a)\n",
    "    a = Dense(32, activation = activation)(a)\n",
    "    a = Dense(64, activation = activation)(a)\n",
    "    a = Dense(128, activation = activation)(a)\n",
    "    a = Dense(256, activation = activation)(a)\n",
    "    \n",
    "    b = Conv2D(64, kernel_size = (4,4), padding='same', activation = activation)(inputs)\n",
    "    b = MaxPooling2D(pool_size = (2, 2), padding = 'same')(b)\n",
    "    b = Flatten()(b)\n",
    "    \n",
    "    c = Flatten()(inputs)\n",
    "    c = Dense(128, activation = activation)(c)\n",
    "    c = Dense(64, activation = activation)(c)\n",
    "    c = Dense(32, activation = activation)(c)\n",
    "    c = Dense(64, activation = activation)(c)\n",
    "    c = Dense(128, activation = activation)(c)\n",
    "    c = Dense(256, activation = activation)(c)\n",
    "    \n",
    "    x = concatenate([a, b, c])\n",
    "    x = Dropout(dropout_rate)(x)\n",
    "    x = Dense(64, activation = activation)(x)\n",
    "    output = Dense(1, activation='sigmoid')(x)\n",
    "    model = Model(inputs=inputs, outputs=output)\n",
    "    model.compile(loss='binary_crossentropy', optimizer=optimizer, metrics=['accuracy'])\n",
    "\n",
    "    return model"
   ]
  },
  {
   "cell_type": "markdown",
   "metadata": {},
   "source": [
    "BLOK 8 -> MAIN FUNCTION FOR GRID SEARCH"
   ]
  },
  {
   "cell_type": "code",
   "execution_count": null,
   "metadata": {},
   "outputs": [],
   "source": [
    "X_train = np.expand_dims(np.stack(train['x']), axis = 3)\n",
    "y_train = np.stack(train['y'])\n",
    "X_test = np.expand_dims(np.stack(test['x']), axis = 3)\n",
    "y_test = np.stack(test['y'])\n",
    "\n",
    "# Use scikit-learn to grid search \n",
    "model = KerasClassifier(build_fn = initializeModel, epochs=40) \n",
    "\n",
    "param_grid = dict(batch_size=batch_size, activation=activation, dropout_rate=dropout_rate, optimizer=optimizer)\n",
    "grid = GridSearchCV(estimator=model, param_grid=param_grid, cv=5)\n",
    "grid_result = grid.fit(X_train, y_train, class_weight=class_weight)\n",
    "\n",
    "# summarize results\n",
    "print(\"Best: %f using %s\" % (grid_result.best_score_, grid_result.best_params_))\n",
    "means_acc = grid_result.cv_results_['mean_test_score']\n",
    "stds_acc = grid_result.cv_results_['std_test_score']\n",
    "params_acc = grid_result.cv_results_['params']\n",
    "\n",
    "for  means_acc, stds_acc, params_acc in zip(means_acc, stds_acc, params_acc):\n",
    "    print(\"%f (%f) with: %r\" % (means_acc, stds_acc, params_acc))"
   ]
  }
 ],
 "metadata": {
  "kernelspec": {
   "display_name": "Python 3",
   "language": "python",
   "name": "python3"
  },
  "language_info": {
   "codemirror_mode": {
    "name": "ipython",
    "version": 3
   },
   "file_extension": ".py",
   "mimetype": "text/x-python",
   "name": "python",
   "nbconvert_exporter": "python",
   "pygments_lexer": "ipython3",
   "version": "3.7.4"
  }
 },
 "nbformat": 4,
 "nbformat_minor": 4
}
